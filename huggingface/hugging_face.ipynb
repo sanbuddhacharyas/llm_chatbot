{
 "cells": [
  {
   "cell_type": "code",
   "execution_count": 1,
   "id": "45650c58-8981-489b-8ccf-5e91d424ec0c",
   "metadata": {},
   "outputs": [],
   "source": [
    "import os\n",
    "\n",
    "from langchain_community.document_loaders import PyPDFLoader\n",
    "from langchain_community.document_loaders import PyPDFDirectoryLoader\n",
    "from langchain.text_splitter import RecursiveCharacterTextSplitter\n",
    "from langchain_community.vectorstores import FAISS\n",
    "\n",
    "from langchain_community.embeddings import HuggingFaceBgeEmbeddings\n",
    "from langchain.prompts import PromptTemplate\n",
    "\n",
    "from langchain.chains import RetrievalQA"
   ]
  },
  {
   "cell_type": "code",
   "execution_count": 2,
   "id": "d5ac11ec-9f2a-4fb2-915c-8446ced2d279",
   "metadata": {},
   "outputs": [
    {
     "data": {
      "text/plain": [
       "Document(metadata={'source': 'pdf/acsbr-015.pdf', 'page': 0}, page_content='Health Insurance Coverage Status and Type \\nby Geography: 2021 and 2022\\nAmerican Community Survey Briefs\\nACSBR-015Issued September 2023Douglas Conway and Breauna Branch\\nINTRODUCTION\\nDemographic shifts as well as economic and govern-\\nment policy changes can affect people’s access to health coverage. For example, between 2021 and 2022, the labor market continued to improve, which may have affected private coverage in the United States \\nduring that time.\\n1 Public policy changes included \\nthe renewal of the Public Health Emergency, which \\nallowed Medicaid enrollees to remain covered under the Continuous Enrollment Provision.\\n2 The American \\nRescue Plan (ARP) enhanced Marketplace premium subsidies for those with incomes above 400 percent of the poverty level as well as for unemployed people.\\n3')"
      ]
     },
     "execution_count": 2,
     "metadata": {},
     "output_type": "execute_result"
    }
   ],
   "source": [
    "# Read the pdf fromthe folder\n",
    "loader    = PyPDFDirectoryLoader('./pdf')\n",
    "documents = loader.load()\n",
    "\n",
    "text_splitter   = RecursiveCharacterTextSplitter(chunk_size=1000, chunk_overlap=200)\n",
    "final_documents = text_splitter.split_documents(documents)\n",
    "\n",
    "final_documents[0]"
   ]
  },
  {
   "cell_type": "code",
   "execution_count": 3,
   "id": "93c7cc29-06d6-4f77-887e-5783f4ae9a2f",
   "metadata": {},
   "outputs": [
    {
     "data": {
      "text/plain": [
       "316"
      ]
     },
     "execution_count": 3,
     "metadata": {},
     "output_type": "execute_result"
    }
   ],
   "source": [
    "len(final_documents)"
   ]
  },
  {
   "cell_type": "code",
   "execution_count": 4,
   "id": "6b3e0c9c-57dd-4c2e-8973-c374842500d6",
   "metadata": {},
   "outputs": [
    {
     "name": "stderr",
     "output_type": "stream",
     "text": [
      "/Users/sangam/miniconda3/envs/llm/lib/python3.10/site-packages/sentence_transformers/cross_encoder/CrossEncoder.py:11: TqdmWarning: IProgress not found. Please update jupyter and ipywidgets. See https://ipywidgets.readthedocs.io/en/stable/user_install.html\n",
      "  from tqdm.autonotebook import tqdm, trange\n"
     ]
    },
    {
     "data": {
      "text/plain": [
       "[-0.08465683460235596,\n",
       " -0.011909885331988335,\n",
       " -0.03378922492265701,\n",
       " 0.0294560007750988,\n",
       " 0.0519159771502018,\n",
       " 0.05738397687673569,\n",
       " -0.041001737117767334,\n",
       " 0.02742674946784973,\n",
       " -0.10512824356555939,\n",
       " -0.01580560952425003,\n",
       " 0.07948586344718933,\n",
       " 0.056431885808706284,\n",
       " -0.013176502659916878,\n",
       " -0.034154441207647324,\n",
       " 0.005816021002829075,\n",
       " 0.0472547821700573,\n",
       " -0.013074672780930996,\n",
       " 0.0031299644615501165,\n",
       " -0.03442257270216942,\n",
       " 0.030840644612908363,\n",
       " -0.04090864583849907,\n",
       " 0.03527376428246498,\n",
       " -0.02437613159418106,\n",
       " -0.04358314722776413,\n",
       " 0.024150291457772255,\n",
       " 0.013198663480579853,\n",
       " -0.00484446668997407,\n",
       " 0.019234759733080864,\n",
       " -0.05439131706953049,\n",
       " -0.14273500442504883,\n",
       " 0.0051552592776715755,\n",
       " 0.029311588034033775,\n",
       " -0.056081127375364304,\n",
       " -0.008535345084965229,\n",
       " 0.031414128839969635,\n",
       " 0.02767363376915455,\n",
       " -0.02061879076063633,\n",
       " 0.08242309093475342,\n",
       " 0.04154250770807266,\n",
       " 0.057965561747550964,\n",
       " -0.03715869411826134,\n",
       " 0.006261622533202171,\n",
       " -0.024138960987329483,\n",
       " -0.005617950111627579,\n",
       " -0.025171544402837753,\n",
       " 0.0050497050397098064,\n",
       " -0.02528015337884426,\n",
       " -0.0029194571543484926,\n",
       " -0.008240403607487679,\n",
       " -0.05696045979857445,\n",
       " 0.023082256317138672,\n",
       " -0.005542159546166658,\n",
       " 0.051155559718608856,\n",
       " 0.06099380925297737,\n",
       " 0.06497664749622345,\n",
       " -0.05385144054889679,\n",
       " 0.021911006420850754,\n",
       " -0.02541946806013584,\n",
       " -0.04492231085896492,\n",
       " 0.04224591329693794,\n",
       " 0.04752523824572563,\n",
       " 0.0007232415955513716,\n",
       " -0.26108455657958984,\n",
       " 0.09301728010177612,\n",
       " 0.01135977916419506,\n",
       " 0.04906691610813141,\n",
       " -0.010628694668412209,\n",
       " -0.00808730535209179,\n",
       " -0.01535620167851448,\n",
       " -0.053378574550151825,\n",
       " -0.06899672746658325,\n",
       " 0.047517843544483185,\n",
       " -0.05685962364077568,\n",
       " 0.009386460296809673,\n",
       " 0.04240657761693001,\n",
       " 0.025434648618102074,\n",
       " 0.009670968167483807,\n",
       " 0.007908033207058907,\n",
       " 0.02251606434583664,\n",
       " 0.0019100731005892158,\n",
       " 0.030609190464019775,\n",
       " 0.024399202316999435,\n",
       " -0.013411546126008034,\n",
       " -0.0477401427924633,\n",
       " 0.048993971198797226,\n",
       " -0.09494171291589737,\n",
       " 0.05628935620188713,\n",
       " -0.0476260669529438,\n",
       " 0.02814476750791073,\n",
       " -0.025432897731661797,\n",
       " -0.038495179265737534,\n",
       " 0.010093978606164455,\n",
       " 0.00019060002523474395,\n",
       " 0.033662524074316025,\n",
       " 0.010018158704042435,\n",
       " 0.02835243195295334,\n",
       " -0.0026896719355136156,\n",
       " -0.006963645573705435,\n",
       " -0.03549151495099068,\n",
       " 0.34275874495506287,\n",
       " -0.019449636340141296,\n",
       " 0.014398803934454918,\n",
       " -0.005688164848834276,\n",
       " 0.017148137092590332,\n",
       " -0.00288603687658906,\n",
       " -0.058165278285741806,\n",
       " 0.0006351747433654964,\n",
       " 0.005173000507056713,\n",
       " 0.02063317410647869,\n",
       " 0.016570834442973137,\n",
       " 0.021509675309062004,\n",
       " -0.023879626765847206,\n",
       " 0.02892753854393959,\n",
       " 0.04673195257782936,\n",
       " -0.03561049699783325,\n",
       " -0.010507899336516857,\n",
       " 0.03707044571638107,\n",
       " 0.015750227496027946,\n",
       " 0.09430951625108719,\n",
       " -0.025071531534194946,\n",
       " -0.00955966766923666,\n",
       " 0.017856605350971222,\n",
       " -0.009417730383574963,\n",
       " -0.04578588157892227,\n",
       " 0.018293015658855438,\n",
       " 0.05814317986369133,\n",
       " 0.04943111538887024,\n",
       " 0.14635069668293,\n",
       " 0.02160576730966568,\n",
       " -0.03928957134485245,\n",
       " 0.10324124991893768,\n",
       " -0.03483002260327339,\n",
       " -0.006618755403906107,\n",
       " 0.007079867646098137,\n",
       " 0.0009269548463635147,\n",
       " 0.004498663358390331,\n",
       " -0.028977764770388603,\n",
       " 0.04024186357855797,\n",
       " -0.005231906194239855,\n",
       " 0.045996155589818954,\n",
       " 0.00423970865085721,\n",
       " -0.004837868269532919,\n",
       " -0.003232366405427456,\n",
       " -0.14107291400432587,\n",
       " -0.03768115118145943,\n",
       " 0.18362388014793396,\n",
       " -0.029660936444997787,\n",
       " 0.049066077917814255,\n",
       " 0.03905520215630531,\n",
       " -0.015775760635733604,\n",
       " -0.03863513842225075,\n",
       " 0.046563029289245605,\n",
       " -0.024348586797714233,\n",
       " 0.03576955944299698,\n",
       " -0.035494737327098846,\n",
       " 0.023626551032066345,\n",
       " -0.0003420066786929965,\n",
       " 0.031170377507805824,\n",
       " -0.023935601115226746,\n",
       " -0.059475790709257126,\n",
       " 0.060625962913036346,\n",
       " -0.038190219551324844,\n",
       " -0.07042555510997772,\n",
       " 0.014247965067625046,\n",
       " 0.03344321623444557,\n",
       " -0.038525477051734924,\n",
       " -0.017195137217640877,\n",
       " -0.07122883200645447,\n",
       " 0.026497697457671165,\n",
       " 0.01094961166381836,\n",
       " 0.013265036977827549,\n",
       " 0.038952793926000595,\n",
       " 0.01603551395237446,\n",
       " -0.03176305443048477,\n",
       " 0.10201369971036911,\n",
       " 0.029291249811649323,\n",
       " -0.02292051538825035,\n",
       " -0.008380536921322346,\n",
       " -0.017217271029949188,\n",
       " -0.06788203120231628,\n",
       " 0.005394197069108486,\n",
       " -0.02323473058640957,\n",
       " -0.06074070557951927,\n",
       " -0.03865755349397659,\n",
       " -0.015430690720677376,\n",
       " -0.03849837929010391,\n",
       " -0.05028675124049187,\n",
       " 0.05042349174618721,\n",
       " 0.04948979616165161,\n",
       " -0.014108279719948769,\n",
       " -0.0029814764857292175,\n",
       " 9.769105963641778e-05,\n",
       " -0.06591903418302536,\n",
       " 0.030100706964731216,\n",
       " -0.0005465706344693899,\n",
       " -0.01647879369556904,\n",
       " -0.05216142162680626,\n",
       " -0.0033022621646523476,\n",
       " 0.04757479950785637,\n",
       " -0.03408084064722061,\n",
       " -0.029865993186831474,\n",
       " 0.027501562610268593,\n",
       " 0.00590200861915946,\n",
       " -0.0026404247619211674,\n",
       " -0.01612425595521927,\n",
       " 0.020522288978099823,\n",
       " 0.01211045403033495,\n",
       " -0.05497824773192406,\n",
       " 0.0510389469563961,\n",
       " -0.007920879870653152,\n",
       " 0.007252089213579893,\n",
       " 0.035175126045942307,\n",
       " 0.036627624183893204,\n",
       " 0.0005676878499798477,\n",
       " 0.026078879833221436,\n",
       " 0.025097088888287544,\n",
       " 0.011448103934526443,\n",
       " -0.025492504239082336,\n",
       " 0.01964177004992962,\n",
       " 0.028422072529792786,\n",
       " 0.028255419805645943,\n",
       " 0.06574896723031998,\n",
       " 0.09265533089637756,\n",
       " -0.2686297595500946,\n",
       " -0.0008905961294658482,\n",
       " 0.003169190837070346,\n",
       " 0.005083588883280754,\n",
       " -0.06421010196208954,\n",
       " -0.045661475509405136,\n",
       " -0.046225935220718384,\n",
       " 0.03609247878193855,\n",
       " 0.008290505036711693,\n",
       " 0.08923493325710297,\n",
       " 0.05680221691727638,\n",
       " 0.006910583935678005,\n",
       " -0.010868399403989315,\n",
       " 0.09360608458518982,\n",
       " 0.010368063114583492,\n",
       " -0.08609294891357422,\n",
       " 0.01773325353860855,\n",
       " -0.02008027583360672,\n",
       " -0.01851247251033783,\n",
       " 0.0005624588811770082,\n",
       " -0.009383343160152435,\n",
       " 0.007760616019368172,\n",
       " -0.05372737720608711,\n",
       " -0.023002833127975464,\n",
       " 0.07488902658224106,\n",
       " -0.012969320639967918,\n",
       " 0.06537175178527832,\n",
       " -0.042498331516981125,\n",
       " -0.0710294246673584,\n",
       " -0.015680387616157532,\n",
       " -0.06230288743972778,\n",
       " 0.05360346660017967,\n",
       " -0.006532143335789442,\n",
       " -0.11598557233810425,\n",
       " 0.06709679961204529,\n",
       " 0.019336650148034096,\n",
       " -0.06678277999162674,\n",
       " -0.0020175266545265913,\n",
       " -0.06276366114616394,\n",
       " -0.029500510543584824,\n",
       " -0.02719862386584282,\n",
       " 0.04497963935136795,\n",
       " -0.06615877151489258,\n",
       " 0.021375112235546112,\n",
       " -0.029407795518636703,\n",
       " -0.05715028941631317,\n",
       " 0.040528226643800735,\n",
       " 0.07110394537448883,\n",
       " -0.06801658868789673,\n",
       " 0.021190814673900604,\n",
       " 0.013051511719822884,\n",
       " -0.029115289449691772,\n",
       " -0.022558141499757767,\n",
       " -0.016018874943256378,\n",
       " 0.032055407762527466,\n",
       " -0.058946046978235245,\n",
       " -0.029713183641433716,\n",
       " 0.03426818922162056,\n",
       " -0.015837563201785088,\n",
       " -0.009317747317254543,\n",
       " 0.03598340228199959,\n",
       " 0.003653394291177392,\n",
       " 0.047331973910331726,\n",
       " -0.01062348484992981,\n",
       " -0.008697344921529293,\n",
       " -0.043800946325063705,\n",
       " 0.005945561453700066,\n",
       " -0.02414940670132637,\n",
       " -0.07799401879310608,\n",
       " 0.014654232189059258,\n",
       " 0.010561410337686539,\n",
       " 0.05453654006123543,\n",
       " -0.031789712607860565,\n",
       " -0.012676349841058254,\n",
       " 0.007925564423203468,\n",
       " -0.013813340105116367,\n",
       " 0.05013959854841232,\n",
       " -0.0072858077473938465,\n",
       " -0.005237056873738766,\n",
       " -0.0532640665769577,\n",
       " 0.04782087355852127,\n",
       " -0.05383533984422684,\n",
       " 0.01114372443407774,\n",
       " 0.03966744989156723,\n",
       " -0.019349630922079086,\n",
       " 0.009948216378688812,\n",
       " -0.0035348450765013695,\n",
       " 0.003585648722946644,\n",
       " -0.009615016169846058,\n",
       " 0.021532442420721054,\n",
       " -0.01823505386710167,\n",
       " -0.021518947556614876,\n",
       " -0.013883586972951889,\n",
       " -0.01766992174088955,\n",
       " 0.00033799052471295,\n",
       " -0.0003848026681225747,\n",
       " -0.2258005142211914,\n",
       " 0.04512428119778633,\n",
       " 0.015337707474827766,\n",
       " -0.017696676775813103,\n",
       " -0.014252619817852974,\n",
       " -0.0070028482005000114,\n",
       " -0.03137247636914253,\n",
       " 0.0021367636509239674,\n",
       " -0.009283473715186119,\n",
       " -0.016698693856596947,\n",
       " 0.04662642627954483,\n",
       " 0.07718092948198318,\n",
       " 0.12669700384140015,\n",
       " -0.018359554931521416,\n",
       " -0.013963690958917141,\n",
       " -0.0012329653836786747,\n",
       " 0.059333909302949905,\n",
       " -0.0013745928881689906,\n",
       " 0.019823359325528145,\n",
       " -0.02926357463002205,\n",
       " 0.04966568946838379,\n",
       " -0.060720719397068024,\n",
       " 0.15354476869106293,\n",
       " -0.04673096910119057,\n",
       " 0.019702907651662827,\n",
       " -0.07678332179784775,\n",
       " -0.0077323224395513535,\n",
       " 0.03716185316443443,\n",
       " -0.030059125274419785,\n",
       " 0.008302649483084679,\n",
       " 0.0206258837133646,\n",
       " 0.0019746548496186733,\n",
       " 0.033976469188928604,\n",
       " -0.017086930572986603,\n",
       " 0.04847961664199829,\n",
       " 0.012078190222382545,\n",
       " 0.012499919161200523,\n",
       " 0.05617246404290199,\n",
       " 0.00988546758890152,\n",
       " 0.021387912333011627,\n",
       " -0.042529404163360596,\n",
       " -0.019403692334890366,\n",
       " 0.024783797562122345,\n",
       " 0.013726030476391315,\n",
       " 0.06411197036504745,\n",
       " -0.028448116034269333,\n",
       " -0.04641164466738701,\n",
       " -0.053625546395778656,\n",
       " -6.953900447115302e-05,\n",
       " 0.06457102298736572,\n",
       " -0.00043203277164138854,\n",
       " -0.013247097842395306,\n",
       " 0.005851307883858681,\n",
       " 0.014859546907246113,\n",
       " -0.054184794425964355,\n",
       " -0.020203791558742523,\n",
       " -0.059826288372278214,\n",
       " 0.03670288994908333,\n",
       " 0.0014332138234749436,\n",
       " -0.00864466279745102,\n",
       " 0.02906719222664833,\n",
       " 0.04383660480380058,\n",
       " -0.0764942392706871,\n",
       " 0.015571766532957554,\n",
       " 0.06658315658569336]"
      ]
     },
     "execution_count": 4,
     "metadata": {},
     "output_type": "execute_result"
    }
   ],
   "source": [
    "# Embedding using huggingFace\n",
    "huggingface_embeddings = HuggingFaceBgeEmbeddings(\n",
    "    model_name    = 'BAAI/bge-small-en-v1.5',\n",
    "    model_kwargs  = {'device':'cpu'},\n",
    "    encode_kwargs = {'normalize_embeddings': True}\n",
    ")\n",
    "huggingface_embeddings.embed_query(final_documents[0].page_content)\n",
    "# "
   ]
  },
  {
   "cell_type": "code",
   "execution_count": 5,
   "id": "3de7441c-b758-48b6-8c2f-ce5cd78b83f0",
   "metadata": {},
   "outputs": [],
   "source": [
    "vectorstore = FAISS.from_documents(final_documents[:120], huggingface_embeddings)"
   ]
  },
  {
   "cell_type": "code",
   "execution_count": 6,
   "id": "c500e101-f30c-4bd1-8d85-248aaee23a19",
   "metadata": {},
   "outputs": [
    {
     "data": {
      "text/plain": [
       "'2 U.S. Census Bureau\\nWHAT IS HEALTH INSURANCE COVERAGE?\\nThis brief presents state-level estimates of health insurance coverage \\nusing data from the American Community Survey (ACS). The  \\nU.S. Census Bureau conducts the ACS throughout the year; the \\nsurvey asks respondents to report their coverage at the time of \\ninterview. The resulting measure of health insurance coverage, \\ntherefore, reflects an annual average of current comprehensive \\nhealth insurance coverage status.* This uninsured rate measures a \\ndifferent concept than the measure based on the Current Population \\nSurvey Annual Social and Economic Supplement (CPS ASEC). \\nFor reporting purposes, the ACS broadly classifies health insurance \\ncoverage as private insurance or public insurance. The ACS defines \\nprivate health insurance as a plan provided through an employer \\nor a union, coverage purchased directly by an individual from an \\ninsurance company or through an exchange (such as healthcare.'"
      ]
     },
     "execution_count": 6,
     "metadata": {},
     "output_type": "execute_result"
    }
   ],
   "source": [
    "relevent_doc = vectorstore.similarity_search(\"health insurance coverage?\")\n",
    "relevent_doc[0].page_content"
   ]
  },
  {
   "cell_type": "code",
   "execution_count": 7,
   "id": "21395024-9fb1-4e73-8baa-438dcc9c4fb9",
   "metadata": {},
   "outputs": [],
   "source": [
    "retriever = vectorstore.as_retriever(search_type='similarity', search_kwargs={'k':3})"
   ]
  },
  {
   "cell_type": "code",
   "execution_count": 1,
   "id": "ffec9ece-e8a7-4631-abb8-149375a02ed8",
   "metadata": {},
   "outputs": [
    {
     "name": "stderr",
     "output_type": "stream",
     "text": [
      "Python-dotenv could not parse statement starting at line 1\n",
      "Python-dotenv could not parse statement starting at line 10\n"
     ]
    },
    {
     "data": {
      "text/plain": [
       "True"
      ]
     },
     "execution_count": 1,
     "metadata": {},
     "output_type": "execute_result"
    }
   ],
   "source": [
    "from dotenv import load_dotenv\n",
    "load_dotenv()"
   ]
  },
  {
   "cell_type": "code",
   "execution_count": 9,
   "id": "37663dd9-c2cc-48fb-84fc-7b5bdabe554a",
   "metadata": {},
   "outputs": [
    {
     "name": "stderr",
     "output_type": "stream",
     "text": [
      "/var/folders/6p/0ctyq1md3qqbfn509nf4xfgr0000gp/T/ipykernel_28384/841653473.py:3: LangChainDeprecationWarning: The class `HuggingFaceHub` was deprecated in LangChain 0.0.21 and will be removed in 1.0. An updated version of the class exists in the langchain-huggingface package and should be used instead. To use it run `pip install -U langchain-huggingface` and import as `from langchain_huggingface import HuggingFaceEndpoint`.\n",
      "  hf = HuggingFaceHub(\n"
     ]
    }
   ],
   "source": [
    "from langchain_community.llms import HuggingFaceHub\n",
    "\n",
    "hf = HuggingFaceHub(\n",
    "    repo_id = 'mistralai/Mistral-7B-v0.1',\n",
    "    model_kwargs = {'temperature':0.1, 'max_lenght':500}\n",
    ")"
   ]
  },
  {
   "cell_type": "code",
   "execution_count": 10,
   "id": "a77817a7-96fc-4b7d-b06c-d7fe5c39a73d",
   "metadata": {},
   "outputs": [
    {
     "name": "stderr",
     "output_type": "stream",
     "text": [
      "huggingface/tokenizers: The current process just got forked, after parallelism has already been used. Disabling parallelism to avoid deadlocks...\n",
      "To disable this warning, you can either:\n",
      "\t- Avoid using `tokenizers` before the fork if possible\n",
      "\t- Explicitly set the environment variable TOKENIZERS_PARALLELISM=(true | false)\n"
     ]
    },
    {
     "data": {
      "text/plain": [
       "\"what is health insurance coverage?\\n\\nHealth insurance is a type of insurance coverage that covers the cost of an individual's medical and surgical expenses. Health insurance policies reimburse policyholders for medical and surgical expenses incurred due to sickness or injury. Health insurance can reimburse policyholders for costs incurred from illness, injury, maternity, and prenatal care, rehabilitation, respite care, home health care, medical equipment, and prescription drugs.\\n\\n\""
      ]
     },
     "execution_count": 10,
     "metadata": {},
     "output_type": "execute_result"
    }
   ],
   "source": [
    "hf.invoke('what is health insurance coverage?')"
   ]
  },
  {
   "cell_type": "code",
   "execution_count": 2,
   "id": "47978482-dcce-435e-af00-a4c2217f42b1",
   "metadata": {},
   "outputs": [],
   "source": [
    "# To locally run huggingface model use HuggingFacePipeline\n",
    "from langchain_community.llms.huggingface_pipeline import HuggingFacePipeline\n"
   ]
  },
  {
   "cell_type": "code",
   "execution_count": null,
   "id": "fd03e5c7-30f9-4010-b6dd-371edb03329f",
   "metadata": {},
   "outputs": [
    {
     "name": "stderr",
     "output_type": "stream",
     "text": [
      "Loading checkpoint shards:   0%|                                                                                                                                            | 0/2 [00:00<?, ?it/s]"
     ]
    }
   ],
   "source": [
    "hf = HuggingFacePipeline.from_model_id(\n",
    "    model_id = 'mistralai/Mistral-7B-v0.1',\n",
    "    task     = 'text-generation',\n",
    "    pipeline_kwargs = {'temperature':0, 'max_new_tokens':300}\n",
    ")\n"
   ]
  },
  {
   "cell_type": "code",
   "execution_count": null,
   "id": "2fc1f903-f253-4c58-b6e7-9a539a59eef0",
   "metadata": {},
   "outputs": [],
   "source": [
    "\n",
    "llm = hf\n",
    "llm.invoke('what is machine learning?')"
   ]
  }
 ],
 "metadata": {
  "kernelspec": {
   "display_name": "Python 3 (ipykernel)",
   "language": "python",
   "name": "python3"
  },
  "language_info": {
   "codemirror_mode": {
    "name": "ipython",
    "version": 3
   },
   "file_extension": ".py",
   "mimetype": "text/x-python",
   "name": "python",
   "nbconvert_exporter": "python",
   "pygments_lexer": "ipython3",
   "version": "3.10.0"
  }
 },
 "nbformat": 4,
 "nbformat_minor": 5
}
