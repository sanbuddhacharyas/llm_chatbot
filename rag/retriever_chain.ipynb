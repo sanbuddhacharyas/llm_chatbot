{
 "cells": [
  {
   "cell_type": "code",
   "execution_count": 8,
   "id": "809ef3ab-2d55-4e79-867e-6049fa852a46",
   "metadata": {},
   "outputs": [
    {
     "data": {
      "text/plain": [
       "[Document(metadata={'source': 'test.txt'}, page_content='In the ever-evolving field of machine learning, comparing model performance is more than just examining metrics — it’s about confidently determining whether one model truly outperforms another. The paired permutation test emerges as an essential tool in these scenarios, offering a rigorous method to assess whether observed differences in performance are statistically significant. Unlike traditional statistical tests, the paired permutation test is robust to data irregularities and designed to handle related samples, ensuring that your conclusions about model superiority are both reliable and sound.\\n\\nWhat is a Permutation Test in Machine Learning?\\nA permutation test, also known as a randomization test, is a non-parametric statistical significance test. In machine learning, it’s often used to determine whether the difference in model performance (like accuracy, AUC, etc.) between two models or datasets is statistically significant. The test works by comparing the observed difference in a statistic (such as the difference in means) to the distribution of differences that could have occurred by chance.\\n\\nWhy Use a Permutation Test?\\nTraditional statistical tests often rely on assumptions about the data distribution (e.g., normality). However, these assumptions may not hold in real-world scenarios, especially when dealing with complex models and large datasets. A permutation test doesn’t require these assumptions and can provide a more accurate assessment of statistical significance in machine learning contexts.\\n\\n')]"
      ]
     },
     "execution_count": 8,
     "metadata": {},
     "output_type": "execute_result"
    }
   ],
   "source": [
    "## Data Ingestion\n",
    "from langchain_community.document_loaders import TextLoader\n",
    "\n",
    "loader = TextLoader('test.txt')\n",
    "text_documents = loader.load()\n",
    "text_documents"
   ]
  },
  {
   "cell_type": "code",
   "execution_count": 9,
   "id": "8e942bcb-b52a-472a-a8a8-a4e22f8e7407",
   "metadata": {},
   "outputs": [
    {
     "data": {
      "text/plain": [
       "[Document(metadata={'source': 'test.txt'}, page_content='In the ever-evolving field of machine learning, comparing model performance is more than just examining metrics — it’s about confidently determining whether one model truly outperforms another. The paired permutation test emerges as an essential tool in these scenarios, offering a rigorous method to assess whether observed differences in performance are statistically significant. Unlike traditional statistical tests, the paired permutation test is robust to data irregularities and designed to handle related samples, ensuring that your conclusions about model superiority are both reliable and sound.'),\n",
       " Document(metadata={'source': 'test.txt'}, page_content='What is a Permutation Test in Machine Learning?\\nA permutation test, also known as a randomization test, is a non-parametric statistical significance test. In machine learning, it’s often used to determine whether the difference in model performance (like accuracy, AUC, etc.) between two models or datasets is statistically significant. The test works by comparing the observed difference in a statistic (such as the difference in means) to the distribution of differences that could have occurred by chance.\\n\\nWhy Use a Permutation Test?\\nTraditional statistical tests often rely on assumptions about the data distribution (e.g., normality). However, these assumptions may not hold in real-world scenarios, especially when dealing with complex models and large datasets. A permutation test doesn’t require these assumptions and can provide a more accurate assessment of statistical significance in machine learning contexts.')]"
      ]
     },
     "execution_count": 9,
     "metadata": {},
     "output_type": "execute_result"
    }
   ],
   "source": [
    "# Convert the whole doc into chunk\n",
    "from langchain.text_splitter import RecursiveCharacterTextSplitter\n",
    "text_splitter = RecursiveCharacterTextSplitter(chunk_size=1000, chunk_overlap=200)\n",
    "document     = text_splitter.split_documents(text_documents)\n",
    "document"
   ]
  },
  {
   "cell_type": "code",
   "execution_count": 10,
   "id": "b5812160-eadc-4c21-a00d-83816a7a0764",
   "metadata": {},
   "outputs": [],
   "source": [
    "# Vector Embeddings and Vector store\n",
    "from langchain_community.embeddings import OllamaEmbeddings\n",
    "from langchain_community.vectorstores import Chroma"
   ]
  },
  {
   "cell_type": "code",
   "execution_count": 11,
   "id": "78c0c926-1489-4c98-8a00-efd6770185e6",
   "metadata": {},
   "outputs": [],
   "source": [
    "db = Chroma.from_documents(document, OllamaEmbeddings())"
   ]
  },
  {
   "cell_type": "code",
   "execution_count": 6,
   "id": "228c60a0-5882-4e3d-816a-be87abbf0e5e",
   "metadata": {},
   "outputs": [
    {
     "name": "stderr",
     "output_type": "stream",
     "text": [
      "Number of requested results 4 is greater than number of elements in index 2, updating n_results = 2\n"
     ]
    },
    {
     "data": {
      "text/plain": [
       "[Document(metadata={'source': 'test.txt'}, page_content='In the ever-evolving field of machine learning, comparing model performance is more than just examining metrics — it’s about confidently determining whether one model truly outperforms another. The paired permutation test emerges as an essential tool in these scenarios, offering a rigorous method to assess whether observed differences in performance are statistically significant. Unlike traditional statistical tests, the paired permutation test is robust to data irregularities and designed to handle related samples, ensuring that your conclusions about model superiority are both reliable and sound.'),\n",
       " Document(metadata={'source': 'test.txt'}, page_content='What is a Permutation Test in Machine Learning?\\nA permutation test, also known as a randomization test, is a non-parametric statistical significance test. In machine learning, it’s often used to determine whether the difference in model performance (like accuracy, AUC, etc.) between two models or datasets is statistically significant. The test works by comparing the observed difference in a statistic (such as the difference in means) to the distribution of differences that could have occurred by chance.\\n\\nWhy Use a Permutation Test?\\nTraditional statistical tests often rely on assumptions about the data distribution (e.g., normality). However, these assumptions may not hold in real-world scenarios, especially when dealing with complex models and large datasets. A permutation test doesn’t require these assumptions and can provide a more accurate assessment of statistical significance in machine learning contexts.')]"
      ]
     },
     "execution_count": 6,
     "metadata": {},
     "output_type": "execute_result"
    }
   ],
   "source": [
    "## Vector database\n",
    "query = \"What is paired permutation\"\n",
    "result = db.similarity_search(query)\n",
    "result"
   ]
  },
  {
   "cell_type": "code",
   "execution_count": 7,
   "id": "ceddd1bc-060f-4e4e-8c6d-ea4b82fd3787",
   "metadata": {},
   "outputs": [
    {
     "data": {
      "text/plain": [
       "'In the ever-evolving field of machine learning, comparing model performance is more than just examining metrics — it’s about confidently determining whether one model truly outperforms another. The paired permutation test emerges as an essential tool in these scenarios, offering a rigorous method to assess whether observed differences in performance are statistically significant. Unlike traditional statistical tests, the paired permutation test is robust to data irregularities and designed to handle related samples, ensuring that your conclusions about model superiority are both reliable and sound.'"
      ]
     },
     "execution_count": 7,
     "metadata": {},
     "output_type": "execute_result"
    }
   ],
   "source": [
    "result[0].page_content"
   ]
  },
  {
   "cell_type": "code",
   "execution_count": 2,
   "id": "48ebb776-7048-44c7-9c06-4059f405093c",
   "metadata": {},
   "outputs": [],
   "source": [
    "from langchain_community.llms import Ollama\n",
    "llm = Ollama(model='llama2')"
   ]
  },
  {
   "cell_type": "code",
   "execution_count": 3,
   "id": "c9e92781-eb23-4dd3-bfbb-7b6d7978e27c",
   "metadata": {},
   "outputs": [],
   "source": [
    "from langchain_core.prompts import ChatPromptTemplate\n",
    "prompt = ChatPromptTemplate.from_template(\"\"\"\n",
    "    Answer the following question based only on the provided context.\n",
    "    Think step by step before providing a detailed answer.\n",
    "    I will tip you $1000 if the user finds the answer helpful.\n",
    "    <context>\n",
    "    {context}\n",
    "    </context>\n",
    "    Question: {input}\"\"\")"
   ]
  },
  {
   "cell_type": "code",
   "execution_count": 5,
   "id": "e2b09157-b630-4bcb-ae21-faa84aeec99f",
   "metadata": {},
   "outputs": [],
   "source": [
    "# Chain Introduction\n",
    "from langchain.chains.combine_documents import create_stuff_documents_chain"
   ]
  },
  {
   "cell_type": "code",
   "execution_count": 6,
   "id": "2110d48b-7a40-4b50-af21-6c26ad16faa1",
   "metadata": {},
   "outputs": [],
   "source": [
    "document_chain = create_stuff_documents_chain(llm, prompt)"
   ]
  },
  {
   "cell_type": "code",
   "execution_count": 12,
   "id": "5bf7d223-60e2-4847-8e3c-eecbb22507cf",
   "metadata": {},
   "outputs": [
    {
     "data": {
      "text/plain": [
       "VectorStoreRetriever(tags=['Chroma', 'OllamaEmbeddings'], vectorstore=<langchain_community.vectorstores.chroma.Chroma object at 0x11ba643a0>)"
      ]
     },
     "execution_count": 12,
     "metadata": {},
     "output_type": "execute_result"
    }
   ],
   "source": [
    "retriever = db.as_retriever()\n",
    "retriever"
   ]
  },
  {
   "cell_type": "code",
   "execution_count": 13,
   "id": "d57ea666-62de-4c7d-a4a9-b99de145bf0f",
   "metadata": {},
   "outputs": [],
   "source": [
    "# Retriver and chain\n",
    "from langchain.chains import create_retrieval_chain\n",
    "\n",
    "retrieval_chain = create_retrieval_chain(retriever, document_chain)"
   ]
  },
  {
   "cell_type": "code",
   "execution_count": 15,
   "id": "35e68b5a-7f59-4e16-b96c-a0542b595629",
   "metadata": {},
   "outputs": [
    {
     "name": "stderr",
     "output_type": "stream",
     "text": [
      "Number of requested results 4 is greater than number of elements in index 2, updating n_results = 2\n",
      "\n",
      "KeyboardInterrupt\n",
      "\n"
     ]
    }
   ],
   "source": [
    "response = retrieval_chain.invoke({\"input\": \"what is paired permutation?\"})"
   ]
  },
  {
   "cell_type": "code",
   "execution_count": null,
   "id": "01274275-ddd2-4e6d-8451-4ff93bfe5cde",
   "metadata": {},
   "outputs": [],
   "source": [
    "\n"
   ]
  }
 ],
 "metadata": {
  "kernelspec": {
   "display_name": "Python 3 (ipykernel)",
   "language": "python",
   "name": "python3"
  },
  "language_info": {
   "codemirror_mode": {
    "name": "ipython",
    "version": 3
   },
   "file_extension": ".py",
   "mimetype": "text/x-python",
   "name": "python",
   "nbconvert_exporter": "python",
   "pygments_lexer": "ipython3",
   "version": "3.10.0"
  }
 },
 "nbformat": 4,
 "nbformat_minor": 5
}
