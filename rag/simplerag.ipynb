{
 "cells": [
  {
   "cell_type": "code",
   "execution_count": 1,
   "id": "809ef3ab-2d55-4e79-867e-6049fa852a46",
   "metadata": {},
   "outputs": [
    {
     "data": {
      "text/plain": [
       "[Document(metadata={'source': 'test.txt'}, page_content='In the ever-evolving field of machine learning, comparing model performance is more than just examining metrics — it’s about confidently determining whether one model truly outperforms another. The paired permutation test emerges as an essential tool in these scenarios, offering a rigorous method to assess whether observed differences in performance are statistically significant. Unlike traditional statistical tests, the paired permutation test is robust to data irregularities and designed to handle related samples, ensuring that your conclusions about model superiority are both reliable and sound.\\n\\nWhat is a Permutation Test in Machine Learning?\\nA permutation test, also known as a randomization test, is a non-parametric statistical significance test. In machine learning, it’s often used to determine whether the difference in model performance (like accuracy, AUC, etc.) between two models or datasets is statistically significant. The test works by comparing the observed difference in a statistic (such as the difference in means) to the distribution of differences that could have occurred by chance.\\n\\nWhy Use a Permutation Test?\\nTraditional statistical tests often rely on assumptions about the data distribution (e.g., normality). However, these assumptions may not hold in real-world scenarios, especially when dealing with complex models and large datasets. A permutation test doesn’t require these assumptions and can provide a more accurate assessment of statistical significance in machine learning contexts.\\n\\n')]"
      ]
     },
     "execution_count": 1,
     "metadata": {},
     "output_type": "execute_result"
    }
   ],
   "source": [
    "## Data Ingestion\n",
    "from langchain_community.document_loaders import TextLoader\n",
    "\n",
    "loader = TextLoader('test.txt')\n",
    "text_documents = loader.load()\n",
    "text_documents"
   ]
  },
  {
   "cell_type": "code",
   "execution_count": null,
   "id": "16abba7c-1a0e-4e15-821b-cc5677afcbc8",
   "metadata": {},
   "outputs": [],
   "source": [
    "loader"
   ]
  },
  {
   "cell_type": "code",
   "execution_count": null,
   "id": "09e888f7-8598-436e-b6dd-a20b836c19ad",
   "metadata": {},
   "outputs": [],
   "source": [
    "from langchain_community.document_loaders import WebBaseLoader\n",
    "import bs4"
   ]
  },
  {
   "cell_type": "code",
   "execution_count": null,
   "id": "61d55b93-02a4-44fe-8519-a6666b3a0dd0",
   "metadata": {},
   "outputs": [],
   "source": [
    "# Load, chunk, and index the content of the html page\n",
    "loader = WebBaseLoader(web_paths=('https://sanbuddhacharyas.github.io/',),\n",
    "                      bs_kwargs=dict(parse_only=bs4.SoupStrainer(class_=('home-intro')))\n",
    "                      )\n",
    "\n",
    "text_document = loader.load()\n",
    "text_document                 "
   ]
  },
  {
   "cell_type": "code",
   "execution_count": null,
   "id": "5f582148-9642-4e75-8cde-96a1632c21fc",
   "metadata": {},
   "outputs": [],
   "source": [
    "# Read from the pdf\n",
    "from langchain_community.document_loaders import PyPDFLoader\n",
    "loader = PyPDFLoader('CV_Professional_pure_data_science (4).pdf')\n",
    "text_doc = loader.load()\n",
    "text_doc"
   ]
  },
  {
   "cell_type": "code",
   "execution_count": 2,
   "id": "8e942bcb-b52a-472a-a8a8-a4e22f8e7407",
   "metadata": {},
   "outputs": [
    {
     "data": {
      "text/plain": [
       "[Document(metadata={'source': 'test.txt'}, page_content='In the ever-evolving field of machine learning, comparing model performance is more than just examining metrics — it’s about confidently determining whether one model truly outperforms another. The paired permutation test emerges as an essential tool in these scenarios, offering a rigorous method to assess whether observed differences in performance are statistically significant. Unlike traditional statistical tests, the paired permutation test is robust to data irregularities and designed to handle related samples, ensuring that your conclusions about model superiority are both reliable and sound.'),\n",
       " Document(metadata={'source': 'test.txt'}, page_content='What is a Permutation Test in Machine Learning?\\nA permutation test, also known as a randomization test, is a non-parametric statistical significance test. In machine learning, it’s often used to determine whether the difference in model performance (like accuracy, AUC, etc.) between two models or datasets is statistically significant. The test works by comparing the observed difference in a statistic (such as the difference in means) to the distribution of differences that could have occurred by chance.\\n\\nWhy Use a Permutation Test?\\nTraditional statistical tests often rely on assumptions about the data distribution (e.g., normality). However, these assumptions may not hold in real-world scenarios, especially when dealing with complex models and large datasets. A permutation test doesn’t require these assumptions and can provide a more accurate assessment of statistical significance in machine learning contexts.')]"
      ]
     },
     "execution_count": 2,
     "metadata": {},
     "output_type": "execute_result"
    }
   ],
   "source": [
    "# Convert the whole doc into chunk\n",
    "from langchain.text_splitter import RecursiveCharacterTextSplitter\n",
    "text_splitter = RecursiveCharacterTextSplitter(chunk_size=1000, chunk_overlap=200)\n",
    "document     = text_splitter.split_documents(text_documents)\n",
    "document"
   ]
  },
  {
   "cell_type": "code",
   "execution_count": 3,
   "id": "9b3158d7-fecb-4eb5-9975-5b616ab13fc3",
   "metadata": {},
   "outputs": [
    {
     "data": {
      "text/plain": [
       "2"
      ]
     },
     "execution_count": 3,
     "metadata": {},
     "output_type": "execute_result"
    }
   ],
   "source": [
    "len(document)"
   ]
  },
  {
   "cell_type": "code",
   "execution_count": 4,
   "id": "b5812160-eadc-4c21-a00d-83816a7a0764",
   "metadata": {},
   "outputs": [],
   "source": [
    "# Vector Embeddings and Vector store\n",
    "from langchain_community.embeddings import OllamaEmbeddings\n",
    "from langchain_community.vectorstores import Chroma"
   ]
  },
  {
   "cell_type": "code",
   "execution_count": 5,
   "id": "78c0c926-1489-4c98-8a00-efd6770185e6",
   "metadata": {},
   "outputs": [],
   "source": [
    "db = Chroma.from_documents(document, OllamaEmbeddings())"
   ]
  },
  {
   "cell_type": "code",
   "execution_count": 6,
   "id": "228c60a0-5882-4e3d-816a-be87abbf0e5e",
   "metadata": {},
   "outputs": [
    {
     "name": "stderr",
     "output_type": "stream",
     "text": [
      "Number of requested results 4 is greater than number of elements in index 2, updating n_results = 2\n"
     ]
    },
    {
     "data": {
      "text/plain": [
       "[Document(metadata={'source': 'test.txt'}, page_content='In the ever-evolving field of machine learning, comparing model performance is more than just examining metrics — it’s about confidently determining whether one model truly outperforms another. The paired permutation test emerges as an essential tool in these scenarios, offering a rigorous method to assess whether observed differences in performance are statistically significant. Unlike traditional statistical tests, the paired permutation test is robust to data irregularities and designed to handle related samples, ensuring that your conclusions about model superiority are both reliable and sound.'),\n",
       " Document(metadata={'source': 'test.txt'}, page_content='What is a Permutation Test in Machine Learning?\\nA permutation test, also known as a randomization test, is a non-parametric statistical significance test. In machine learning, it’s often used to determine whether the difference in model performance (like accuracy, AUC, etc.) between two models or datasets is statistically significant. The test works by comparing the observed difference in a statistic (such as the difference in means) to the distribution of differences that could have occurred by chance.\\n\\nWhy Use a Permutation Test?\\nTraditional statistical tests often rely on assumptions about the data distribution (e.g., normality). However, these assumptions may not hold in real-world scenarios, especially when dealing with complex models and large datasets. A permutation test doesn’t require these assumptions and can provide a more accurate assessment of statistical significance in machine learning contexts.')]"
      ]
     },
     "execution_count": 6,
     "metadata": {},
     "output_type": "execute_result"
    }
   ],
   "source": [
    "## Vector database\n",
    "query = \"What is paired permutation\"\n",
    "result = db.similarity_search(query)\n",
    "result"
   ]
  },
  {
   "cell_type": "code",
   "execution_count": 7,
   "id": "ceddd1bc-060f-4e4e-8c6d-ea4b82fd3787",
   "metadata": {},
   "outputs": [
    {
     "data": {
      "text/plain": [
       "'In the ever-evolving field of machine learning, comparing model performance is more than just examining metrics — it’s about confidently determining whether one model truly outperforms another. The paired permutation test emerges as an essential tool in these scenarios, offering a rigorous method to assess whether observed differences in performance are statistically significant. Unlike traditional statistical tests, the paired permutation test is robust to data irregularities and designed to handle related samples, ensuring that your conclusions about model superiority are both reliable and sound.'"
      ]
     },
     "execution_count": 7,
     "metadata": {},
     "output_type": "execute_result"
    }
   ],
   "source": [
    "result[0].page_content"
   ]
  },
  {
   "cell_type": "code",
   "execution_count": null,
   "id": "e2b09157-b630-4bcb-ae21-faa84aeec99f",
   "metadata": {},
   "outputs": [],
   "source": [
    "## FAISS Vector Database\n",
    "from langchain_community.vectorstores import FAISS\n",
    "db = FAISS.from_documents(document, OllamaEmbeddings())"
   ]
  },
  {
   "cell_type": "code",
   "execution_count": null,
   "id": "2110d48b-7a40-4b50-af21-6c26ad16faa1",
   "metadata": {},
   "outputs": [],
   "source": []
  }
 ],
 "metadata": {
  "kernelspec": {
   "display_name": "Python 3 (ipykernel)",
   "language": "python",
   "name": "python3"
  },
  "language_info": {
   "codemirror_mode": {
    "name": "ipython",
    "version": 3
   },
   "file_extension": ".py",
   "mimetype": "text/x-python",
   "name": "python",
   "nbconvert_exporter": "python",
   "pygments_lexer": "ipython3",
   "version": "3.10.0"
  }
 },
 "nbformat": 4,
 "nbformat_minor": 5
}
